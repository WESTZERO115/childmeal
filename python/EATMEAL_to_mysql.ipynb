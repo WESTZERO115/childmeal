{
  "nbformat": 4,
  "nbformat_minor": 0,
  "metadata": {
    "colab": {
      "name": "EATMEAL_to_mysql.ipynb",
      "provenance": [],
      "collapsed_sections": [],
      "authorship_tag": "ABX9TyNlVo4YihzMEt6fOBPg9G+7",
      "include_colab_link": true
    },
    "kernelspec": {
      "name": "python3",
      "display_name": "Python 3"
    },
    "language_info": {
      "name": "python"
    }
  },
  "cells": [
    {
      "cell_type": "markdown",
      "metadata": {
        "id": "view-in-github",
        "colab_type": "text"
      },
      "source": [
        "<a href=\"https://colab.research.google.com/github/WESTZERO115/childmeal/blob/main/EATMEAL_to_mysql.ipynb\" target=\"_parent\"><img src=\"https://colab.research.google.com/assets/colab-badge.svg\" alt=\"Open In Colab\"/></a>"
      ]
    },
    {
      "cell_type": "code",
      "source": [
        "!pip install pymysql"
      ],
      "metadata": {
        "colab": {
          "base_uri": "https://localhost:8080/"
        },
        "id": "DvNEnS7ZNgOb",
        "outputId": "79734666-0dc0-463f-9ffb-c000e079c8ce"
      },
      "execution_count": 1,
      "outputs": [
        {
          "output_type": "stream",
          "name": "stdout",
          "text": [
            "Collecting pymysql\n",
            "  Downloading PyMySQL-1.0.2-py3-none-any.whl (43 kB)\n",
            "\u001b[?25l\r\u001b[K     |███████▌                        | 10 kB 19.4 MB/s eta 0:00:01\r\u001b[K     |███████████████                 | 20 kB 16.5 MB/s eta 0:00:01\r\u001b[K     |██████████████████████▍         | 30 kB 7.1 MB/s eta 0:00:01\r\u001b[K     |██████████████████████████████  | 40 kB 6.7 MB/s eta 0:00:01\r\u001b[K     |████████████████████████████████| 43 kB 755 kB/s \n",
            "\u001b[?25hInstalling collected packages: pymysql\n",
            "Successfully installed pymysql-1.0.2\n"
          ]
        }
      ]
    },
    {
      "cell_type": "code",
      "execution_count": 2,
      "metadata": {
        "id": "kuv1POR1EvZe"
      },
      "outputs": [],
      "source": [
        "import pymysql"
      ]
    },
    {
      "cell_type": "code",
      "source": [
        "#테이블 생성\n",
        "conn=pymysql.connect(host='capstonedesign.c3lmane8vo1i.ap-northeast-2.rds.amazonaws.com',\n",
        "                        port=3306,\n",
        "                        user='admin',\n",
        "                        password='swusw2022',\n",
        "                        db='capstonedesign',\n",
        "                        charset='utf8')\n",
        "cursor=conn.cursor()\n",
        "#sql=\"CREATE TABLE EATMEAL(ChildInfo BIGINT NOT NULL,food_menu VARCHAR(10));\"\n",
        "sql=\"ALTER TABLE EATMEAL  FOREIGN KEY(ChildInfo) REFERENCES CHILD(CardNum);\"\n",
        "cursor.execute(sql) #SQL수행\n",
        "conn.commit()\n",
        "conn.close()\n"
      ],
      "metadata": {
        "id": "RqdrTyVDFWK0"
      },
      "execution_count": 19,
      "outputs": []
    },
    {
      "cell_type": "code",
      "source": [
        "def mysql_save(food_list):\n",
        "    conn=pymysql.connect(host='capstonedesign.c3lmane8vo1i.ap-northeast-2.rds.amazonaws.com',\n",
        "                        port=3306,\n",
        "                        user='admin',\n",
        "                        password='swusw2022',\n",
        "                        db='capstonedesign',\n",
        "                        charset='utf8')\n",
        "    cursor=conn.cursor()\n",
        "    \n",
        "    # 데이터 삽입\n",
        "    sql = \"INSERT INTO CURRENT_MEAL(ChildInfo,food_menu,food_kcal,food_protein,food_fat,food_carbohyd,food_natrium) VALUES (%s,%s,%s,%s,%s,%s,%s);\"\n",
        "    cursor.executemany(sql,food_list)\n",
        "    conn.commit()\n",
        "    conn.close()\n",
        "mysql_save(food_list)"
      ],
      "metadata": {
        "id": "ZU0aeMQIp0Vs"
      },
      "execution_count": null,
      "outputs": []
    }
  ]
}
