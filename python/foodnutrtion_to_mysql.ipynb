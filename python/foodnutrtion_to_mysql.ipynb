{
  "nbformat": 4,
  "nbformat_minor": 0,
  "metadata": {
    "colab": {
      "name": "foodnutrtion_to_mysql.ipynb",
      "provenance": [],
      "collapsed_sections": [],
      "authorship_tag": "ABX9TyNG+k7W/i9Xo1X8FD1pJSsQ",
      "include_colab_link": true
    },
    "kernelspec": {
      "name": "python3",
      "display_name": "Python 3"
    },
    "language_info": {
      "name": "python"
    }
  },
  "cells": [
    {
      "cell_type": "markdown",
      "metadata": {
        "id": "view-in-github",
        "colab_type": "text"
      },
      "source": [
        "<a href=\"https://colab.research.google.com/github/WESTZERO115/childmeal/blob/main/foodnutrtion_to_mysql.ipynb\" target=\"_parent\"><img src=\"https://colab.research.google.com/assets/colab-badge.svg\" alt=\"Open In Colab\"/></a>"
      ]
    },
    {
      "cell_type": "code",
      "source": [
        "!pip install pymysql"
      ],
      "metadata": {
        "colab": {
          "base_uri": "https://localhost:8080/"
        },
        "id": "DvNEnS7ZNgOb",
        "outputId": "025fc8e0-6614-4d66-bde5-ca3435b3ca15"
      },
      "execution_count": 1,
      "outputs": [
        {
          "output_type": "stream",
          "name": "stdout",
          "text": [
            "Collecting pymysql\n",
            "  Downloading PyMySQL-1.0.2-py3-none-any.whl (43 kB)\n",
            "\u001b[?25l\r\u001b[K     |███████▌                        | 10 kB 14.7 MB/s eta 0:00:01\r\u001b[K     |███████████████                 | 20 kB 11.2 MB/s eta 0:00:01\r\u001b[K     |██████████████████████▍         | 30 kB 8.1 MB/s eta 0:00:01\r\u001b[K     |██████████████████████████████  | 40 kB 4.5 MB/s eta 0:00:01\r\u001b[K     |████████████████████████████████| 43 kB 974 kB/s \n",
            "\u001b[?25hInstalling collected packages: pymysql\n",
            "Successfully installed pymysql-1.0.2\n"
          ]
        }
      ]
    },
    {
      "cell_type": "code",
      "execution_count": null,
      "metadata": {
        "id": "kuv1POR1EvZe"
      },
      "outputs": [],
      "source": [
        "import json\n",
        "import requests\n",
        "import pymysql\n",
        "\n",
        "\n",
        "myKey = \"95ec7adda481472f8165\"\n",
        "dataType = \"json\"\n",
        "startNum = \"90001\"\n",
        "endNum = \"90608\"\n",
        "\n",
        "url = 'http://openapi.foodsafetykorea.go.kr/api/'+myKey+'/I2790/'+dataType+'/'+startNum+'/'+endNum  #식품영양정보DB/공공API/keyvalue/DBID/type/시작value/끝value \n",
        "\n",
        "res = requests.get(url)\n",
        "res.encoding = 'UTF-8'\n",
        "res_message = res.text\n",
        "\n",
        "print(res_message)\n",
        "data = json.loads(res_message)\n",
        "\n",
        "## print(json.dumps(data, ensure_ascii=False, indent=2)) # ensure_ascii=False --> json 파일 호출시 한글 깨짐 방지\n",
        "\n",
        "foods = data[\"I2790\"][\"row\"]\n",
        "food_list=[]\n",
        "i=1\n",
        "for food in foods:\n",
        "    food_code = food[\"FOOD_CD\"]\n",
        "    food_menu = food[\"DESC_KOR\"]\n",
        "    food_groupname = food[\"GROUP_NAME\"]\n",
        "    if food_groupname == '':\n",
        "        food_groupname = '식품군 정보없음'\n",
        "    food_servingsize = food[\"SERVING_SIZE\"]\n",
        "    if food_servingsize == '':\n",
        "        food_servingsize = '총 내용량 정보없음'\n",
        "    food_kcal = food[\"NUTR_CONT1\"]\n",
        "    if food_kcal == '':\n",
        "        food_kcal = '열량(kcal)(1회제공량당) 정보없음'\n",
        "    food_carbohyd = food[\"NUTR_CONT2\"]\n",
        "    if food_carbohyd == '':\n",
        "        food_carbohyd = '탄수화물(g)(1회제공량당) 정보없음'\n",
        "    food_protein = food[\"NUTR_CONT3\"]\n",
        "    if food_protein == '':\n",
        "        food_protein = '단백질(g)(1회제공량당) 정보없음'\n",
        "    food_fat = food[\"NUTR_CONT4\"]\n",
        "    if food_fat == '':\n",
        "        food_fat = '지방(g)(1회제공량당) 정보없음'\n",
        "    food_sugars = food[\"NUTR_CONT5\"]\n",
        "    if food_sugars == '':\n",
        "        food_sugars = '당류(g)(1회제공량당) 정보없음'\n",
        "    food_natrium = food[\"NUTR_CONT6\"]\n",
        "    if food_natrium == '':\n",
        "        food_natrium = '나트륨(mg)(1회제공량당) 정보없음'\n",
        "    food_cholesterol = food[\"NUTR_CONT7\"]\n",
        "    if food_cholesterol == '':\n",
        "        food_cholesterol = '콜레스테롤(mg)(1회제공량당) 정보없음'\n",
        "    food_saturatedfatty = food[\"NUTR_CONT8\"]\n",
        "    if food_saturatedfatty == '':\n",
        "        food_saturatedfatty = '포화지방산(g)(1회제공량당) 정보없음'\n",
        "    food_transfat = food[\"NUTR_CONT9\"]\n",
        "    if food_transfat == '':\n",
        "        food_transfat = '트랜스지방(g)(1회제공량당) 정보없음'\n",
        "\n",
        "    food_list.append(tuple([food_code, food_menu, food_groupname, food_servingsize, food_kcal, food_carbohyd, food_protein, food_fat, food_sugars, food_natrium, food_cholesterol, food_saturatedfatty, food_transfat]))\n",
        "    i+=1\n",
        "    print(i)\n",
        "print(food_list)\n",
        "\n",
        "import pandas as pd\n",
        "\n",
        "df = pd.DataFrame(food_list, columns = ['food_code', 'food_menu', 'food_groupname','food_servingsize','food_kcal','food_carbohyd','food_protein','food_fat','food_sugars','food_natrium','food_cholesterol','food_saturatedfatty','food_transfat'])\n",
        "df\n"
      ]
    },
    {
      "cell_type": "code",
      "source": [
        "import pymysql\n",
        "\n",
        "#테이블 생성\n",
        "conn=pymysql.connect(host='capstonedesign.c3lmane8vo1i.ap-northeast-2.rds.amazonaws.com',\n",
        "                        port=3306,\n",
        "                        user='admin',\n",
        "                        password='swusw2022',\n",
        "                        db='capstonedesign',\n",
        "                        charset='utf8')\n",
        "cursor=conn.cursor()\n",
        "sql= \"CREATE TABLE FOOD_NUTRITION(food_code VARCHAR(7),food_menu VARCHAR(10),food_groupname VARCHAR(10),food_servingsize INT,food_kcal FLOAT(5),food_carbohyd FLOAT(5),food_protein FLOAT(5),food_fat FLOAT(5),food_sugars FLOAT(5),food_natrium FLOAT(8),food_cholesterol FLOAT(6),food_saturatedfatty FLOAT(5),food_transfat FLOAT(3));\" #DB생성\n",
        "cursor.execute(sql) #SQL수행\n",
        "conn.commit()\n",
        "conn.close()\n"
      ],
      "metadata": {
        "id": "RqdrTyVDFWK0"
      },
      "execution_count": null,
      "outputs": []
    },
    {
      "cell_type": "code",
      "source": [
        "def mysql_save(food_list):\n",
        "    conn=pymysql.connect(host='capstonedesign.c3lmane8vo1i.ap-northeast-2.rds.amazonaws.com',\n",
        "                        port=3306,\n",
        "                        user='admin',\n",
        "                        password='swusw2022',\n",
        "                        db='capstonedesign',\n",
        "                        charset='utf8')\n",
        "    cursor=conn.cursor()\n",
        "    \n",
        "    # 데이터 삽입\n",
        "    sql = \"INSERT INTO FOOD_NUTRITION(food_code,food_menu,food_groupname,food_servingsize,food_kcal,food_carbohyd,food_protein,food_fat,food_sugars,food_natrium,food_cholesterol,food_saturatedfatty,food_transfat) VALUES (%s,%s,%s,%s,%s,%s,%s,%s,%s,%s,%s,%s,%s);\"\n",
        "    cursor.executemany(sql,food_list)\n",
        "    conn.commit()\n",
        "    conn.close()\n",
        "mysql_save(food_list)"
      ],
      "metadata": {
        "id": "ZU0aeMQIp0Vs"
      },
      "execution_count": 66,
      "outputs": []
    },
    {
      "cell_type": "code",
      "source": [
        "conn=pymysql.connect(host='capstonedesign.c3lmane8vo1i.ap-northeast-2.rds.amazonaws.com',\n",
        "                        port=3306,\n",
        "                        user='admin',\n",
        "                        password='swusw2022',\n",
        "                        db='capstonedesign',\n",
        "                        charset='utf8')\n",
        "cursor=conn.cursor()\n",
        "cursor.execute(\"SELECT * FROM FOOD_NUTRITION WHERE food_menu = '우리쌀 누룽지';\") \n",
        "(food_code,food_menu,food_groupname,food_servingsize,food_kcal,food_carbohyd,food_protein,food_fat,food_sugars,food_natrium,food_cholesterol,food_saturatedfatty,food_transfat) = cursor.fetchone() \n",
        "print(f\"{food_code},{food_menu},{food_groupname},{food_servingsize},{food_kcal},{food_carbohyd},{food_protein},{food_fat},{food_sugars},{food_natrium},{food_cholesterol},{food_saturatedfatty},{food_transfat}\")"
      ],
      "metadata": {
        "id": "Cejw1m8EMaF1",
        "colab": {
          "base_uri": "https://localhost:8080/"
        },
        "outputId": "4e7e79bc-1f32-48db-cd9c-ae8eb420dec1"
      },
      "execution_count": 5,
      "outputs": [
        {
          "output_type": "stream",
          "name": "stdout",
          "text": [
            "P000426,우리쌀 누룽지,과자류, 빵류 또는,30,114.0,0.0,0.0,0.0,0.0,9.0,0.0,0.0,0.0\n"
          ]
        }
      ]
    }
  ]
}
