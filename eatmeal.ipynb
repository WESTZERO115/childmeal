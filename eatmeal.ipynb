{
  "nbformat": 4,
  "nbformat_minor": 0,
  "metadata": {
    "colab": {
      "name": "eatmeal.ipynb",
      "provenance": [],
      "collapsed_sections": [],
      "authorship_tag": "ABX9TyOyVcM3NNbzvgadEpQe7on7",
      "include_colab_link": true
    },
    "kernelspec": {
      "name": "python3",
      "display_name": "Python 3"
    },
    "language_info": {
      "name": "python"
    }
  },
  "cells": [
    {
      "cell_type": "markdown",
      "metadata": {
        "id": "view-in-github",
        "colab_type": "text"
      },
      "source": [
        "<a href=\"https://colab.research.google.com/github/WESTZERO115/childmeal/blob/main/eatmeal.ipynb\" target=\"_parent\"><img src=\"https://colab.research.google.com/assets/colab-badge.svg\" alt=\"Open In Colab\"/></a>"
      ]
    },
    {
      "cell_type": "code",
      "source": [
        "!pip install pymysql"
      ],
      "metadata": {
        "colab": {
          "base_uri": "https://localhost:8080/"
        },
        "id": "DvNEnS7ZNgOb",
        "outputId": "490408bc-b3cd-45bc-c9f8-8ce59504b9ba"
      },
      "execution_count": 9,
      "outputs": [
        {
          "output_type": "stream",
          "name": "stdout",
          "text": [
            "Requirement already satisfied: pymysql in /usr/local/lib/python3.7/dist-packages (1.0.2)\n"
          ]
        }
      ]
    },
    {
      "cell_type": "code",
      "source": [
        "import pymysql\n",
        "\n",
        "conn=pymysql.connect(host='capstonedesign.c3lmane8vo1i.ap-northeast-2.rds.amazonaws.com',\n",
        "                        port=3306,\n",
        "                        user='admin',\n",
        "                        password='swusw2022',\n",
        "                        db='capstonedesign',\n",
        "                        charset='utf8')\n",
        "cursor=conn.cursor()\n",
        "cursor.execute(\"SELECT * FROM EATMEAL;\") \n",
        "(ChildInfo, food_menu, date_time) = cursor.fetchone()\n",
        "cardnum = ChildInfo\n",
        "eat_menu = food_menu \n",
        "print(f\"{ChildInfo},{food_menu},{date_time}\")\n",
        "conn.commit()\n",
        "conn.close()"
      ],
      "metadata": {
        "id": "Cejw1m8EMaF1",
        "colab": {
          "base_uri": "https://localhost:8080/"
        },
        "outputId": "93ecc1ce-49b5-4c53-a321-f5ea9ffe844c"
      },
      "execution_count": 34,
      "outputs": [
        {
          "output_type": "stream",
          "name": "stdout",
          "text": [
            "678765456545,김밥,2022-04-28 06:25:10\n"
          ]
        }
      ]
    },
    {
      "cell_type": "code",
      "source": [
        "conn=pymysql.connect(host='capstonedesign.c3lmane8vo1i.ap-northeast-2.rds.amazonaws.com',\n",
        "                        port=3306,\n",
        "                        user='admin',\n",
        "                        password='swusw2022',\n",
        "                        db='capstonedesign',\n",
        "                        charset='utf8')\n",
        "cursor=conn.cursor()\n",
        "cursor.execute(\"SELECT * FROM CHILD WHERE CardNum = %s;\", (cardnum)) \n",
        "(CardNum, ChildName, ChildAge, ChildHeight, ChildWeight, ChildGender) = cursor.fetchone()\n",
        "childage = ChildAge\n",
        "conn.commit()\n",
        "conn.close()"
      ],
      "metadata": {
        "id": "Q8frMgHObIfF"
      },
      "execution_count": 45,
      "outputs": []
    },
    {
      "cell_type": "code",
      "source": [
        "conn=pymysql.connect(host='capstonedesign.c3lmane8vo1i.ap-northeast-2.rds.amazonaws.com',\n",
        "                        port=3306,\n",
        "                        user='admin',\n",
        "                        password='swusw2022',\n",
        "                        db='capstonedesign',\n",
        "                        charset='utf8')\n",
        "cursor=conn.cursor()\n",
        "cursor.execute(\"SELECT * FROM FOOD_NUTRITION WHERE food_menu = '\" + eat_menu + \"';\")\n",
        "(food_code,food_menu,food_groupname,food_servingsize,food_kcal,food_carbohyd,food_protein,food_fat,food_sugars,food_natrium,food_cholesterol,food_saturatedfatty,food_transfat) = cursor.fetchone() \n",
        "eat_kcal = food_kcal\n",
        "eat_carbonhyd = food_carbohyd\n",
        "eat_protein = food_protein\n",
        "eat_fat = food_fat\n",
        "eat_natrium = food_natrium\n",
        "print(f\"{food_code},{food_menu},{food_groupname},{food_servingsize},{food_kcal},{food_carbohyd},{food_protein},{food_fat},{food_sugars},{food_natrium},{food_cholesterol},{food_saturatedfatty},{food_transfat}\")\n",
        "conn.commit()\n",
        "conn.close()"
      ],
      "metadata": {
        "colab": {
          "base_uri": "https://localhost:8080/"
        },
        "id": "CRXayVSmFqf-",
        "outputId": "796b6a42-3a63-4d15-e537-eaaa16ae6012"
      },
      "execution_count": 48,
      "outputs": [
        {
          "output_type": "stream",
          "name": "stdout",
          "text": [
            "D018190,김밥,식품군 정보없음,230,322.56,45.95,11.14,10.47,0.0,705.16,44.4,2.54,0.05\n"
          ]
        }
      ]
    },
    {
      "cell_type": "code",
      "source": [
        "conn=pymysql.connect(host='capstonedesign.c3lmane8vo1i.ap-northeast-2.rds.amazonaws.com',\n",
        "                        port=3306,\n",
        "                        user='admin',\n",
        "                        password='swusw2022',\n",
        "                        db='capstonedesign',\n",
        "                        charset='utf8')\n",
        "cursor=conn.cursor()\n",
        "cursor.execute(\"SELECT * FROM RECOMMENDED_INTAKE;\")\n",
        "(Child_Age, food_kcal, food_protein, food_fat, food_carbohyd, food_natrium) = cursor.fetchone() \n",
        "print(f\"{Child_Age},{food_kcal},{food_protein},{food_fat},{food_carbohyd},{food_natrium}\")\n",
        "conn.close()"
      ],
      "metadata": {
        "colab": {
          "base_uri": "https://localhost:8080/"
        },
        "id": "mYcBTop9l-bM",
        "outputId": "1c5b1003-497f-4980-e0b4-7cd48058b935"
      },
      "execution_count": 50,
      "outputs": [
        {
          "output_type": "stream",
          "name": "stdout",
          "text": [
            "6-11 평균,1802.1,62.95,48.26,275.76,2422.99\n"
          ]
        }
      ]
    },
    {
      "cell_type": "code",
      "source": [
        "conn=pymysql.connect(host='capstonedesign.c3lmane8vo1i.ap-northeast-2.rds.amazonaws.com',\n",
        "                        port=3306,\n",
        "                        user='admin',\n",
        "                        password='swusw2022',\n",
        "                        db='capstonedesign',\n",
        "                        charset='utf8')\n",
        "cursor=conn.cursor()\n",
        "cursor.execute(\"SELECT * FROM RECOMMENDED_INTAKE WHERE Child_Age = %s;\",(childage))\n",
        "(Child_Age, food_kcal, food_protein, food_fat, food_carbohyd, food_natrium) = cursor.fetchone() \n",
        "lack_kcal = food_kcal - eat_kcal\n",
        "lack_carbonhyd = food_carbohyd - eat_carbonhyd\n",
        "lack_protein = food_protein - eat_protein\n",
        "lack_fat = food_fat - eat_fat\n",
        "lack_natrium = food_natrium - eat_natrium\n",
        "conn.commit()\n",
        "conn.close()"
      ],
      "metadata": {
        "id": "0F21tFYxiFTh"
      },
      "execution_count": 51,
      "outputs": []
    },
    {
      "cell_type": "code",
      "source": [
        "print(\"오늘 하루 부족한 칼로리는 %.2f kcal 입니다.\"%(lack_kcal))\n",
        "print(\"오늘 하루 부족한 탄수화물은 %.2f g 입니다.\"%(lack_carbonhyd))\n",
        "print(\"오늘 하루 부족한 단백질은 %.2f g 입니다.\"%(lack_protein))\n",
        "print(\"오늘 하루 부족한 지방은 %.2f g 입니다.\"%(lack_fat))\n",
        "print(\"오늘 하루 부족한 나트륨은 %.2f mg 입니다.\"%(lack_natrium))"
      ],
      "metadata": {
        "colab": {
          "base_uri": "https://localhost:8080/"
        },
        "id": "Fz4OnHm9lzTH",
        "outputId": "8f2f3884-5b00-4f1d-e021-cbab71a4d835"
      },
      "execution_count": 56,
      "outputs": [
        {
          "output_type": "stream",
          "name": "stdout",
          "text": [
            "오늘 하루 부족한 칼로리는 1479.54 kcal 입니다.\n",
            "오늘 하루 부족한 탄수화물은 2.31 g 입니다.\n",
            "오늘 하루 부족한 단백질은 51.81 g 입니다.\n",
            "오늘 하루 부족한 지방은 52.48 g 입니다.\n",
            "오늘 하루 부족한 나트륨은 1717.83 mg 입니다.\n"
          ]
        }
      ]
    },
    {
      "cell_type": "code",
      "source": [
        ""
      ],
      "metadata": {
        "id": "fqhgSh3mwwfA"
      },
      "execution_count": null,
      "outputs": []
    }
  ]
}