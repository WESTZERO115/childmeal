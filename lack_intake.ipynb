{
  "nbformat": 4,
  "nbformat_minor": 0,
  "metadata": {
    "colab": {
      "name": "lack_intake.ipynb",
      "provenance": [],
      "collapsed_sections": [],
      "authorship_tag": "ABX9TyNZl1BjQ1KkQupBtRS3m21K",
      "include_colab_link": true
    },
    "kernelspec": {
      "name": "python3",
      "display_name": "Python 3"
    },
    "language_info": {
      "name": "python"
    }
  },
  "cells": [
    {
      "cell_type": "markdown",
      "metadata": {
        "id": "view-in-github",
        "colab_type": "text"
      },
      "source": [
        "<a href=\"https://colab.research.google.com/github/WESTZERO115/childmeal/blob/main/lack_intake.ipynb\" target=\"_parent\"><img src=\"https://colab.research.google.com/assets/colab-badge.svg\" alt=\"Open In Colab\"/></a>"
      ]
    },
    {
      "cell_type": "code",
      "source": [
        "!pip install pymysql"
      ],
      "metadata": {
        "colab": {
          "base_uri": "https://localhost:8080/"
        },
        "id": "DvNEnS7ZNgOb",
        "outputId": "b003cdd3-bce6-4e53-a0ac-09fad10973eb"
      },
      "execution_count": 1,
      "outputs": [
        {
          "output_type": "stream",
          "name": "stdout",
          "text": [
            "Collecting pymysql\n",
            "  Downloading PyMySQL-1.0.2-py3-none-any.whl (43 kB)\n",
            "\u001b[?25l\r\u001b[K     |███████▌                        | 10 kB 4.5 MB/s eta 0:00:01\r\u001b[K     |███████████████                 | 20 kB 7.7 MB/s eta 0:00:01\r\u001b[K     |██████████████████████▍         | 30 kB 6.7 MB/s eta 0:00:01\r\u001b[K     |██████████████████████████████  | 40 kB 6.2 MB/s eta 0:00:01\r\u001b[K     |████████████████████████████████| 43 kB 810 kB/s \n",
            "\u001b[?25hInstalling collected packages: pymysql\n",
            "Successfully installed pymysql-1.0.2\n"
          ]
        }
      ]
    },
    {
      "cell_type": "markdown",
      "source": [
        "1. user의 식사 내역 불러오기\\\n",
        "==> user의 카드 번호 정보 cardnum 변수로 저장\\\n",
        "==> user가 먹은 메뉴 eat_menu 변수로 저장"
      ],
      "metadata": {
        "id": "I52crzdDKm1u"
      }
    },
    {
      "cell_type": "code",
      "source": [
        "import pymysql\n",
        "\n",
        "conn=pymysql.connect(host='capstonedesign.c3lmane8vo1i.ap-northeast-2.rds.amazonaws.com',\n",
        "                        port=3306,\n",
        "                        user='admin',\n",
        "                        password='swusw2022',\n",
        "                        db='capstonedesign',\n",
        "                        charset='utf8')\n",
        "cursor=conn.cursor()\n",
        "cursor.execute(\"SELECT * FROM EATMEAL;\") \n",
        "(ChildInfo, food_menu, date_time) = cursor.fetchone()\n",
        "cardnum = ChildInfo\n",
        "eat_menu = food_menu \n",
        "print(f\"{ChildInfo},{food_menu},{date_time}\")\n",
        "conn.commit()\n",
        "conn.close()"
      ],
      "metadata": {
        "id": "Cejw1m8EMaF1",
        "colab": {
          "base_uri": "https://localhost:8080/"
        },
        "outputId": "d6f1a1b9-f8e1-4d49-8d71-c9569c36a282"
      },
      "execution_count": 7,
      "outputs": [
        {
          "output_type": "stream",
          "name": "stdout",
          "text": [
            "678765456545,김밥,2022-04-28 06:25:10\n"
          ]
        }
      ]
    },
    {
      "cell_type": "markdown",
      "source": [
        "2. cardnum 정보를 가지고 CHILD DB에서 childage 정보 불러오기"
      ],
      "metadata": {
        "id": "oYEbVRApKwPO"
      }
    },
    {
      "cell_type": "code",
      "source": [
        "conn=pymysql.connect(host='capstonedesign.c3lmane8vo1i.ap-northeast-2.rds.amazonaws.com',\n",
        "                        port=3306,\n",
        "                        user='admin',\n",
        "                        password='swusw2022',\n",
        "                        db='capstonedesign',\n",
        "                        charset='utf8')\n",
        "cursor=conn.cursor()\n",
        "cursor.execute(\"SELECT * FROM CHILD WHERE CardNum = %s;\", (cardnum)) \n",
        "(CardNum, ChildName, ChildAge, ChildHeight, ChildWeight, ChildGender) = cursor.fetchone()\n",
        "print(f\"{CardNum},{ChildName},{ChildAge},{ChildHeight},{ChildWeight},{ChildGender}\")\n",
        "childage = ChildAge\n",
        "conn.commit()\n",
        "conn.close()"
      ],
      "metadata": {
        "id": "Q8frMgHObIfF",
        "colab": {
          "base_uri": "https://localhost:8080/"
        },
        "outputId": "bb329562-f6c2-4f96-9b54-637a4002cf00"
      },
      "execution_count": 8,
      "outputs": [
        {
          "output_type": "stream",
          "name": "stdout",
          "text": [
            "678765456545,무야호,11,136,40,남성\n"
          ]
        }
      ]
    },
    {
      "cell_type": "markdown",
      "source": [
        "3. 식품 영양 정보(FOOD_NUTRITION) DB에서 user가 먹은 eat_menu의 영양 정보를 가져온다."
      ],
      "metadata": {
        "id": "r7Kk1Qt_Lf_G"
      }
    },
    {
      "cell_type": "code",
      "source": [
        "conn=pymysql.connect(host='capstonedesign.c3lmane8vo1i.ap-northeast-2.rds.amazonaws.com',\n",
        "                        port=3306,\n",
        "                        user='admin',\n",
        "                        password='swusw2022',\n",
        "                        db='capstonedesign',\n",
        "                        charset='utf8')\n",
        "cursor=conn.cursor()\n",
        "cursor.execute(\"SELECT * FROM FOOD_NUTRITION WHERE food_menu = '\" + eat_menu + \"';\")\n",
        "(food_code,food_menu,food_groupname,food_servingsize,food_kcal,food_carbohyd,food_protein,food_fat,food_sugars,food_natrium,food_cholesterol,food_saturatedfatty,food_transfat) = cursor.fetchone() \n",
        "eat_kcal = food_kcal\n",
        "eat_carbonhyd = food_carbohyd\n",
        "eat_protein = food_protein\n",
        "eat_fat = food_fat\n",
        "eat_natrium = food_natrium\n",
        "print(f\"{food_code},{food_menu},{food_groupname},{food_servingsize},{food_kcal},{food_carbohyd},{food_protein},{food_fat},{food_sugars},{food_natrium},{food_cholesterol},{food_saturatedfatty},{food_transfat}\")\n",
        "conn.commit()\n",
        "conn.close()"
      ],
      "metadata": {
        "colab": {
          "base_uri": "https://localhost:8080/"
        },
        "id": "CRXayVSmFqf-",
        "outputId": "7c8ad3cf-58fe-4377-eb86-c476b20ba085"
      },
      "execution_count": 9,
      "outputs": [
        {
          "output_type": "stream",
          "name": "stdout",
          "text": [
            "D018190,김밥,식품군 정보없음,230,322.56,45.95,11.14,10.47,0.0,705.16,44.4,2.54,0.05\n"
          ]
        }
      ]
    },
    {
      "cell_type": "markdown",
      "source": [
        "4. 받아 온 user의 나이 정보를 바탕으로 연령별 하루 권장 섭취량(RECOMMEND_INTAKE)에서\\\n",
        " 칼로리/탄수화물/단백질/지방/나트륨에 관한 정보 가져와서 부족 영양소 계산하기"
      ],
      "metadata": {
        "id": "z0sXcquDL3qH"
      }
    },
    {
      "cell_type": "code",
      "source": [
        "conn=pymysql.connect(host='capstonedesign.c3lmane8vo1i.ap-northeast-2.rds.amazonaws.com',\n",
        "                        port=3306,\n",
        "                        user='admin',\n",
        "                        password='swusw2022',\n",
        "                        db='capstonedesign',\n",
        "                        charset='utf8')\n",
        "cursor=conn.cursor()\n",
        "cursor.execute(\"SELECT * FROM RECOMMENDED_INTAKE WHERE Child_Age = %s;\",(childage))\n",
        "(Child_Age, food_kcal, food_protein, food_fat, food_carbohyd, food_natrium) = cursor.fetchone() \n",
        "print(f\"{Child_Age},{food_kcal},{food_carbohyd},{food_protein},{food_fat},{food_natrium}\")\n",
        "lack_kcal = food_kcal - eat_kcal\n",
        "lack_carbonhyd = food_carbohyd - eat_carbonhyd\n",
        "lack_protein = food_protein - eat_protein\n",
        "lack_fat = food_fat - eat_fat\n",
        "lack_natrium = food_natrium - eat_natrium\n",
        "conn.commit()\n",
        "conn.close()"
      ],
      "metadata": {
        "id": "0F21tFYxiFTh",
        "colab": {
          "base_uri": "https://localhost:8080/"
        },
        "outputId": "47529ba0-0786-4352-a951-3319f0af4b86"
      },
      "execution_count": 12,
      "outputs": [
        {
          "output_type": "stream",
          "name": "stdout",
          "text": [
            "11,1802.1,48.26,62.95,62.95,2422.99\n"
          ]
        }
      ]
    },
    {
      "cell_type": "markdown",
      "source": [
        "5. 부족한 영양소 출력"
      ],
      "metadata": {
        "id": "4dZYPK_dOWZ3"
      }
    },
    {
      "cell_type": "code",
      "source": [
        "print(\"오늘 하루 부족한 칼로리는 %.2f kcal 입니다.\"%(lack_kcal))\n",
        "print(\"오늘 하루 부족한 탄수화물은 %.2f g 입니다.\"%(lack_carbonhyd))\n",
        "print(\"오늘 하루 부족한 단백질은 %.2f g 입니다.\"%(lack_protein))\n",
        "print(\"오늘 하루 부족한 지방은 %.2f g 입니다.\"%(lack_fat))\n",
        "print(\"오늘 하루 부족한 나트륨은 %.2f mg 입니다.\"%(lack_natrium))"
      ],
      "metadata": {
        "colab": {
          "base_uri": "https://localhost:8080/"
        },
        "id": "Fz4OnHm9lzTH",
        "outputId": "2711dd12-6768-478e-80e8-63f3b39df739"
      },
      "execution_count": 6,
      "outputs": [
        {
          "output_type": "stream",
          "name": "stdout",
          "text": [
            "오늘 하루 부족한 칼로리는 1479.54 kcal 입니다.\n",
            "오늘 하루 부족한 탄수화물은 2.31 g 입니다.\n",
            "오늘 하루 부족한 단백질은 51.81 g 입니다.\n",
            "오늘 하루 부족한 지방은 52.48 g 입니다.\n",
            "오늘 하루 부족한 나트륨은 1717.83 mg 입니다.\n"
          ]
        }
      ]
    },
    {
      "cell_type": "code",
      "source": [
        ""
      ],
      "metadata": {
        "id": "MTVJ1J0hOxlo"
      },
      "execution_count": null,
      "outputs": []
    }
  ]
}